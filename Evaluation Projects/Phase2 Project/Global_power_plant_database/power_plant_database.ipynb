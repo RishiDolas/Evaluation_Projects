{
 "cells": [
  {
   "cell_type": "code",
   "execution_count": 178,
   "id": "7ac0e2dd",
   "metadata": {},
   "outputs": [],
   "source": [
    "import pandas as pd\n",
    "import numpy as np\n",
    "import matplotlib.pyplot as plt\n",
    "import seaborn as sns\n",
    "%matplotlib inline"
   ]
  },
  {
   "cell_type": "markdown",
   "id": "e5423499",
   "metadata": {},
   "source": [
    "# Importing Australia Database"
   ]
  },
  {
   "cell_type": "code",
   "execution_count": 179,
   "id": "2c4e708b",
   "metadata": {},
   "outputs": [
    {
     "data": {
      "text/html": [
       "<div>\n",
       "<style scoped>\n",
       "    .dataframe tbody tr th:only-of-type {\n",
       "        vertical-align: middle;\n",
       "    }\n",
       "\n",
       "    .dataframe tbody tr th {\n",
       "        vertical-align: top;\n",
       "    }\n",
       "\n",
       "    .dataframe thead th {\n",
       "        text-align: right;\n",
       "    }\n",
       "</style>\n",
       "<table border=\"1\" class=\"dataframe\">\n",
       "  <thead>\n",
       "    <tr style=\"text-align: right;\">\n",
       "      <th></th>\n",
       "      <th>country</th>\n",
       "      <th>country_long</th>\n",
       "      <th>name</th>\n",
       "      <th>gppd_idnr</th>\n",
       "      <th>capacity_mw</th>\n",
       "      <th>latitude</th>\n",
       "      <th>longitude</th>\n",
       "      <th>primary_fuel</th>\n",
       "      <th>other_fuel1</th>\n",
       "      <th>other_fuel2</th>\n",
       "      <th>...</th>\n",
       "      <th>year_of_capacity_data</th>\n",
       "      <th>generation_gwh_2013</th>\n",
       "      <th>generation_gwh_2014</th>\n",
       "      <th>generation_gwh_2015</th>\n",
       "      <th>generation_gwh_2016</th>\n",
       "      <th>generation_gwh_2017</th>\n",
       "      <th>generation_gwh_2018</th>\n",
       "      <th>generation_gwh_2019</th>\n",
       "      <th>generation_data_source</th>\n",
       "      <th>estimated_generation_gwh</th>\n",
       "    </tr>\n",
       "  </thead>\n",
       "  <tbody>\n",
       "    <tr>\n",
       "      <th>0</th>\n",
       "      <td>AUS</td>\n",
       "      <td>Australia</td>\n",
       "      <td>Adelaide Airport</td>\n",
       "      <td>AUS0000433</td>\n",
       "      <td>0.11</td>\n",
       "      <td>-34.9387</td>\n",
       "      <td>138.5377</td>\n",
       "      <td>Solar</td>\n",
       "      <td>NaN</td>\n",
       "      <td>NaN</td>\n",
       "      <td>...</td>\n",
       "      <td>2019.0</td>\n",
       "      <td>NaN</td>\n",
       "      <td>NaN</td>\n",
       "      <td>NaN</td>\n",
       "      <td>NaN</td>\n",
       "      <td>NaN</td>\n",
       "      <td>NaN</td>\n",
       "      <td>NaN</td>\n",
       "      <td>NaN</td>\n",
       "      <td>NaN</td>\n",
       "    </tr>\n",
       "    <tr>\n",
       "      <th>1</th>\n",
       "      <td>AUS</td>\n",
       "      <td>Australia</td>\n",
       "      <td>Adelaide Showgrounds</td>\n",
       "      <td>AUS0000432</td>\n",
       "      <td>1.00</td>\n",
       "      <td>-34.9453</td>\n",
       "      <td>138.5882</td>\n",
       "      <td>Solar</td>\n",
       "      <td>NaN</td>\n",
       "      <td>NaN</td>\n",
       "      <td>...</td>\n",
       "      <td>2019.0</td>\n",
       "      <td>NaN</td>\n",
       "      <td>NaN</td>\n",
       "      <td>NaN</td>\n",
       "      <td>NaN</td>\n",
       "      <td>NaN</td>\n",
       "      <td>NaN</td>\n",
       "      <td>NaN</td>\n",
       "      <td>NaN</td>\n",
       "      <td>NaN</td>\n",
       "    </tr>\n",
       "    <tr>\n",
       "      <th>2</th>\n",
       "      <td>AUS</td>\n",
       "      <td>Australia</td>\n",
       "      <td>Albany Wind Farm</td>\n",
       "      <td>AUS0000065</td>\n",
       "      <td>21.60</td>\n",
       "      <td>-35.0641</td>\n",
       "      <td>117.7977</td>\n",
       "      <td>Wind</td>\n",
       "      <td>NaN</td>\n",
       "      <td>NaN</td>\n",
       "      <td>...</td>\n",
       "      <td>2019.0</td>\n",
       "      <td>89.595278</td>\n",
       "      <td>102.642778</td>\n",
       "      <td>96.555556</td>\n",
       "      <td>95.872778</td>\n",
       "      <td>85.900278</td>\n",
       "      <td>92.682222</td>\n",
       "      <td>NaN</td>\n",
       "      <td>Australia Clean Energy Regulator</td>\n",
       "      <td>NaN</td>\n",
       "    </tr>\n",
       "    <tr>\n",
       "      <th>3</th>\n",
       "      <td>AUS</td>\n",
       "      <td>Australia</td>\n",
       "      <td>Alice Springs Airport</td>\n",
       "      <td>AUS0000469</td>\n",
       "      <td>0.24</td>\n",
       "      <td>-23.7966</td>\n",
       "      <td>133.8971</td>\n",
       "      <td>Solar</td>\n",
       "      <td>NaN</td>\n",
       "      <td>NaN</td>\n",
       "      <td>...</td>\n",
       "      <td>2019.0</td>\n",
       "      <td>NaN</td>\n",
       "      <td>NaN</td>\n",
       "      <td>NaN</td>\n",
       "      <td>NaN</td>\n",
       "      <td>NaN</td>\n",
       "      <td>NaN</td>\n",
       "      <td>NaN</td>\n",
       "      <td>NaN</td>\n",
       "      <td>NaN</td>\n",
       "    </tr>\n",
       "    <tr>\n",
       "      <th>4</th>\n",
       "      <td>AUS</td>\n",
       "      <td>Australia</td>\n",
       "      <td>Amcor Gawler</td>\n",
       "      <td>AUS0000231</td>\n",
       "      <td>4.00</td>\n",
       "      <td>-34.5509</td>\n",
       "      <td>138.7659</td>\n",
       "      <td>Oil</td>\n",
       "      <td>NaN</td>\n",
       "      <td>NaN</td>\n",
       "      <td>...</td>\n",
       "      <td>2019.0</td>\n",
       "      <td>NaN</td>\n",
       "      <td>NaN</td>\n",
       "      <td>NaN</td>\n",
       "      <td>NaN</td>\n",
       "      <td>NaN</td>\n",
       "      <td>NaN</td>\n",
       "      <td>NaN</td>\n",
       "      <td>NaN</td>\n",
       "      <td>NaN</td>\n",
       "    </tr>\n",
       "  </tbody>\n",
       "</table>\n",
       "<p>5 rows × 27 columns</p>\n",
       "</div>"
      ],
      "text/plain": [
       "  country country_long                   name   gppd_idnr  capacity_mw  \\\n",
       "0     AUS    Australia       Adelaide Airport  AUS0000433         0.11   \n",
       "1     AUS    Australia   Adelaide Showgrounds  AUS0000432         1.00   \n",
       "2     AUS    Australia       Albany Wind Farm  AUS0000065        21.60   \n",
       "3     AUS    Australia  Alice Springs Airport  AUS0000469         0.24   \n",
       "4     AUS    Australia           Amcor Gawler  AUS0000231         4.00   \n",
       "\n",
       "   latitude  longitude primary_fuel  other_fuel1  other_fuel2  ...  \\\n",
       "0  -34.9387   138.5377        Solar          NaN          NaN  ...   \n",
       "1  -34.9453   138.5882        Solar          NaN          NaN  ...   \n",
       "2  -35.0641   117.7977         Wind          NaN          NaN  ...   \n",
       "3  -23.7966   133.8971        Solar          NaN          NaN  ...   \n",
       "4  -34.5509   138.7659          Oil          NaN          NaN  ...   \n",
       "\n",
       "   year_of_capacity_data  generation_gwh_2013 generation_gwh_2014  \\\n",
       "0                 2019.0                  NaN                 NaN   \n",
       "1                 2019.0                  NaN                 NaN   \n",
       "2                 2019.0            89.595278          102.642778   \n",
       "3                 2019.0                  NaN                 NaN   \n",
       "4                 2019.0                  NaN                 NaN   \n",
       "\n",
       "  generation_gwh_2015 generation_gwh_2016 generation_gwh_2017  \\\n",
       "0                 NaN                 NaN                 NaN   \n",
       "1                 NaN                 NaN                 NaN   \n",
       "2           96.555556           95.872778           85.900278   \n",
       "3                 NaN                 NaN                 NaN   \n",
       "4                 NaN                 NaN                 NaN   \n",
       "\n",
       "   generation_gwh_2018  generation_gwh_2019            generation_data_source  \\\n",
       "0                  NaN                  NaN                               NaN   \n",
       "1                  NaN                  NaN                               NaN   \n",
       "2            92.682222                  NaN  Australia Clean Energy Regulator   \n",
       "3                  NaN                  NaN                               NaN   \n",
       "4                  NaN                  NaN                               NaN   \n",
       "\n",
       "   estimated_generation_gwh  \n",
       "0                       NaN  \n",
       "1                       NaN  \n",
       "2                       NaN  \n",
       "3                       NaN  \n",
       "4                       NaN  \n",
       "\n",
       "[5 rows x 27 columns]"
      ]
     },
     "execution_count": 179,
     "metadata": {},
     "output_type": "execute_result"
    }
   ],
   "source": [
    "df_aus = pd.read_csv('database_AUS.csv')\n",
    "df_aus.head()"
   ]
  },
  {
   "cell_type": "code",
   "execution_count": 180,
   "id": "1d170509",
   "metadata": {},
   "outputs": [
    {
     "data": {
      "text/plain": [
       "(512, 27)"
      ]
     },
     "execution_count": 180,
     "metadata": {},
     "output_type": "execute_result"
    }
   ],
   "source": [
    "df_aus.shape"
   ]
  },
  {
   "cell_type": "markdown",
   "id": "ba9d8cdf",
   "metadata": {},
   "source": [
    "# # Importing Australia Database"
   ]
  },
  {
   "cell_type": "code",
   "execution_count": 181,
   "id": "06b54f13",
   "metadata": {},
   "outputs": [
    {
     "data": {
      "text/html": [
       "<div>\n",
       "<style scoped>\n",
       "    .dataframe tbody tr th:only-of-type {\n",
       "        vertical-align: middle;\n",
       "    }\n",
       "\n",
       "    .dataframe tbody tr th {\n",
       "        vertical-align: top;\n",
       "    }\n",
       "\n",
       "    .dataframe thead th {\n",
       "        text-align: right;\n",
       "    }\n",
       "</style>\n",
       "<table border=\"1\" class=\"dataframe\">\n",
       "  <thead>\n",
       "    <tr style=\"text-align: right;\">\n",
       "      <th></th>\n",
       "      <th>country</th>\n",
       "      <th>country_long</th>\n",
       "      <th>name</th>\n",
       "      <th>gppd_idnr</th>\n",
       "      <th>capacity_mw</th>\n",
       "      <th>latitude</th>\n",
       "      <th>longitude</th>\n",
       "      <th>primary_fuel</th>\n",
       "      <th>other_fuel1</th>\n",
       "      <th>other_fuel2</th>\n",
       "      <th>...</th>\n",
       "      <th>year_of_capacity_data</th>\n",
       "      <th>generation_gwh_2013</th>\n",
       "      <th>generation_gwh_2014</th>\n",
       "      <th>generation_gwh_2015</th>\n",
       "      <th>generation_gwh_2016</th>\n",
       "      <th>generation_gwh_2017</th>\n",
       "      <th>generation_gwh_2018</th>\n",
       "      <th>generation_gwh_2019</th>\n",
       "      <th>generation_data_source</th>\n",
       "      <th>estimated_generation_gwh</th>\n",
       "    </tr>\n",
       "  </thead>\n",
       "  <tbody>\n",
       "    <tr>\n",
       "      <th>0</th>\n",
       "      <td>IND</td>\n",
       "      <td>India</td>\n",
       "      <td>ACME Solar Tower</td>\n",
       "      <td>WRI1020239</td>\n",
       "      <td>2.5</td>\n",
       "      <td>28.1839</td>\n",
       "      <td>73.2407</td>\n",
       "      <td>Solar</td>\n",
       "      <td>NaN</td>\n",
       "      <td>NaN</td>\n",
       "      <td>...</td>\n",
       "      <td>NaN</td>\n",
       "      <td>NaN</td>\n",
       "      <td>NaN</td>\n",
       "      <td>NaN</td>\n",
       "      <td>NaN</td>\n",
       "      <td>NaN</td>\n",
       "      <td>NaN</td>\n",
       "      <td>NaN</td>\n",
       "      <td>NaN</td>\n",
       "      <td>NaN</td>\n",
       "    </tr>\n",
       "    <tr>\n",
       "      <th>1</th>\n",
       "      <td>IND</td>\n",
       "      <td>India</td>\n",
       "      <td>ADITYA CEMENT WORKS</td>\n",
       "      <td>WRI1019881</td>\n",
       "      <td>98.0</td>\n",
       "      <td>24.7663</td>\n",
       "      <td>74.6090</td>\n",
       "      <td>Coal</td>\n",
       "      <td>NaN</td>\n",
       "      <td>NaN</td>\n",
       "      <td>...</td>\n",
       "      <td>NaN</td>\n",
       "      <td>NaN</td>\n",
       "      <td>NaN</td>\n",
       "      <td>NaN</td>\n",
       "      <td>NaN</td>\n",
       "      <td>NaN</td>\n",
       "      <td>NaN</td>\n",
       "      <td>NaN</td>\n",
       "      <td>NaN</td>\n",
       "      <td>NaN</td>\n",
       "    </tr>\n",
       "    <tr>\n",
       "      <th>2</th>\n",
       "      <td>IND</td>\n",
       "      <td>India</td>\n",
       "      <td>AES Saurashtra Windfarms</td>\n",
       "      <td>WRI1026669</td>\n",
       "      <td>39.2</td>\n",
       "      <td>21.9038</td>\n",
       "      <td>69.3732</td>\n",
       "      <td>Wind</td>\n",
       "      <td>NaN</td>\n",
       "      <td>NaN</td>\n",
       "      <td>...</td>\n",
       "      <td>NaN</td>\n",
       "      <td>NaN</td>\n",
       "      <td>NaN</td>\n",
       "      <td>NaN</td>\n",
       "      <td>NaN</td>\n",
       "      <td>NaN</td>\n",
       "      <td>NaN</td>\n",
       "      <td>NaN</td>\n",
       "      <td>NaN</td>\n",
       "      <td>NaN</td>\n",
       "    </tr>\n",
       "    <tr>\n",
       "      <th>3</th>\n",
       "      <td>IND</td>\n",
       "      <td>India</td>\n",
       "      <td>AGARTALA GT</td>\n",
       "      <td>IND0000001</td>\n",
       "      <td>135.0</td>\n",
       "      <td>23.8712</td>\n",
       "      <td>91.3602</td>\n",
       "      <td>Gas</td>\n",
       "      <td>NaN</td>\n",
       "      <td>NaN</td>\n",
       "      <td>...</td>\n",
       "      <td>2019.0</td>\n",
       "      <td>2.41461</td>\n",
       "      <td>617.789264</td>\n",
       "      <td>843.747</td>\n",
       "      <td>886.004428</td>\n",
       "      <td>663.774500</td>\n",
       "      <td>626.239128</td>\n",
       "      <td>NaN</td>\n",
       "      <td>Central Electricity Authority</td>\n",
       "      <td>NaN</td>\n",
       "    </tr>\n",
       "    <tr>\n",
       "      <th>4</th>\n",
       "      <td>IND</td>\n",
       "      <td>India</td>\n",
       "      <td>AKALTARA TPP</td>\n",
       "      <td>IND0000002</td>\n",
       "      <td>1800.0</td>\n",
       "      <td>21.9603</td>\n",
       "      <td>82.4091</td>\n",
       "      <td>Coal</td>\n",
       "      <td>Oil</td>\n",
       "      <td>NaN</td>\n",
       "      <td>...</td>\n",
       "      <td>2019.0</td>\n",
       "      <td>NaN</td>\n",
       "      <td>3035.550000</td>\n",
       "      <td>5916.370</td>\n",
       "      <td>6243.000000</td>\n",
       "      <td>5385.579736</td>\n",
       "      <td>7279.000000</td>\n",
       "      <td>NaN</td>\n",
       "      <td>Central Electricity Authority</td>\n",
       "      <td>NaN</td>\n",
       "    </tr>\n",
       "  </tbody>\n",
       "</table>\n",
       "<p>5 rows × 27 columns</p>\n",
       "</div>"
      ],
      "text/plain": [
       "  country country_long                      name   gppd_idnr  capacity_mw  \\\n",
       "0     IND        India          ACME Solar Tower  WRI1020239          2.5   \n",
       "1     IND        India       ADITYA CEMENT WORKS  WRI1019881         98.0   \n",
       "2     IND        India  AES Saurashtra Windfarms  WRI1026669         39.2   \n",
       "3     IND        India               AGARTALA GT  IND0000001        135.0   \n",
       "4     IND        India              AKALTARA TPP  IND0000002       1800.0   \n",
       "\n",
       "   latitude  longitude primary_fuel other_fuel1 other_fuel2  ...  \\\n",
       "0   28.1839    73.2407        Solar         NaN         NaN  ...   \n",
       "1   24.7663    74.6090         Coal         NaN         NaN  ...   \n",
       "2   21.9038    69.3732         Wind         NaN         NaN  ...   \n",
       "3   23.8712    91.3602          Gas         NaN         NaN  ...   \n",
       "4   21.9603    82.4091         Coal         Oil         NaN  ...   \n",
       "\n",
       "   year_of_capacity_data  generation_gwh_2013 generation_gwh_2014  \\\n",
       "0                    NaN                  NaN                 NaN   \n",
       "1                    NaN                  NaN                 NaN   \n",
       "2                    NaN                  NaN                 NaN   \n",
       "3                 2019.0              2.41461          617.789264   \n",
       "4                 2019.0                  NaN         3035.550000   \n",
       "\n",
       "  generation_gwh_2015 generation_gwh_2016 generation_gwh_2017  \\\n",
       "0                 NaN                 NaN                 NaN   \n",
       "1                 NaN                 NaN                 NaN   \n",
       "2                 NaN                 NaN                 NaN   \n",
       "3             843.747          886.004428          663.774500   \n",
       "4            5916.370         6243.000000         5385.579736   \n",
       "\n",
       "   generation_gwh_2018  generation_gwh_2019         generation_data_source  \\\n",
       "0                  NaN                  NaN                            NaN   \n",
       "1                  NaN                  NaN                            NaN   \n",
       "2                  NaN                  NaN                            NaN   \n",
       "3           626.239128                  NaN  Central Electricity Authority   \n",
       "4          7279.000000                  NaN  Central Electricity Authority   \n",
       "\n",
       "   estimated_generation_gwh  \n",
       "0                       NaN  \n",
       "1                       NaN  \n",
       "2                       NaN  \n",
       "3                       NaN  \n",
       "4                       NaN  \n",
       "\n",
       "[5 rows x 27 columns]"
      ]
     },
     "execution_count": 181,
     "metadata": {},
     "output_type": "execute_result"
    }
   ],
   "source": [
    "df_ind = pd.read_csv('database_IND.csv')\n",
    "df_ind.head()"
   ]
  },
  {
   "cell_type": "code",
   "execution_count": 182,
   "id": "6959388e",
   "metadata": {},
   "outputs": [
    {
     "data": {
      "text/plain": [
       "(907, 27)"
      ]
     },
     "execution_count": 182,
     "metadata": {},
     "output_type": "execute_result"
    }
   ],
   "source": [
    "df_ind.shape"
   ]
  },
  {
   "cell_type": "markdown",
   "id": "b7e4182a",
   "metadata": {},
   "source": [
    "# # Importing USA Database"
   ]
  },
  {
   "cell_type": "code",
   "execution_count": 183,
   "id": "7acdfa6c",
   "metadata": {},
   "outputs": [
    {
     "data": {
      "text/html": [
       "<div>\n",
       "<style scoped>\n",
       "    .dataframe tbody tr th:only-of-type {\n",
       "        vertical-align: middle;\n",
       "    }\n",
       "\n",
       "    .dataframe tbody tr th {\n",
       "        vertical-align: top;\n",
       "    }\n",
       "\n",
       "    .dataframe thead th {\n",
       "        text-align: right;\n",
       "    }\n",
       "</style>\n",
       "<table border=\"1\" class=\"dataframe\">\n",
       "  <thead>\n",
       "    <tr style=\"text-align: right;\">\n",
       "      <th></th>\n",
       "      <th>country</th>\n",
       "      <th>country_long</th>\n",
       "      <th>name</th>\n",
       "      <th>gppd_idnr</th>\n",
       "      <th>capacity_mw</th>\n",
       "      <th>latitude</th>\n",
       "      <th>longitude</th>\n",
       "      <th>primary_fuel</th>\n",
       "      <th>other_fuel1</th>\n",
       "      <th>other_fuel2</th>\n",
       "      <th>...</th>\n",
       "      <th>year_of_capacity_data</th>\n",
       "      <th>generation_gwh_2013</th>\n",
       "      <th>generation_gwh_2014</th>\n",
       "      <th>generation_gwh_2015</th>\n",
       "      <th>generation_gwh_2016</th>\n",
       "      <th>generation_gwh_2017</th>\n",
       "      <th>generation_gwh_2018</th>\n",
       "      <th>generation_gwh_2019</th>\n",
       "      <th>generation_data_source</th>\n",
       "      <th>estimated_generation_gwh</th>\n",
       "    </tr>\n",
       "  </thead>\n",
       "  <tbody>\n",
       "    <tr>\n",
       "      <th>0</th>\n",
       "      <td>USA</td>\n",
       "      <td>United States of America</td>\n",
       "      <td>10 Briggs Solar NG  LLC (East)</td>\n",
       "      <td>USA0062781</td>\n",
       "      <td>0.0</td>\n",
       "      <td>41.6327</td>\n",
       "      <td>-71.4963</td>\n",
       "      <td>NaN</td>\n",
       "      <td>NaN</td>\n",
       "      <td>NaN</td>\n",
       "      <td>...</td>\n",
       "      <td>2019.0</td>\n",
       "      <td>NaN</td>\n",
       "      <td>NaN</td>\n",
       "      <td>NaN</td>\n",
       "      <td>NaN</td>\n",
       "      <td>NaN</td>\n",
       "      <td>NaN</td>\n",
       "      <td>NaN</td>\n",
       "      <td>NaN</td>\n",
       "      <td>NaN</td>\n",
       "    </tr>\n",
       "    <tr>\n",
       "      <th>1</th>\n",
       "      <td>USA</td>\n",
       "      <td>United States of America</td>\n",
       "      <td>100 Brook Hill Drive Solar</td>\n",
       "      <td>USA0063292</td>\n",
       "      <td>2.0</td>\n",
       "      <td>41.0930</td>\n",
       "      <td>-73.9828</td>\n",
       "      <td>Solar</td>\n",
       "      <td>NaN</td>\n",
       "      <td>NaN</td>\n",
       "      <td>...</td>\n",
       "      <td>2019.0</td>\n",
       "      <td>NaN</td>\n",
       "      <td>NaN</td>\n",
       "      <td>NaN</td>\n",
       "      <td>NaN</td>\n",
       "      <td>NaN</td>\n",
       "      <td>NaN</td>\n",
       "      <td>2.467</td>\n",
       "      <td>U.S. Energy Information Administration</td>\n",
       "      <td>NaN</td>\n",
       "    </tr>\n",
       "    <tr>\n",
       "      <th>2</th>\n",
       "      <td>USA</td>\n",
       "      <td>United States of America</td>\n",
       "      <td>1001 Ebenezer Church Solar</td>\n",
       "      <td>USA0063444</td>\n",
       "      <td>0.0</td>\n",
       "      <td>36.2838</td>\n",
       "      <td>-80.8434</td>\n",
       "      <td>NaN</td>\n",
       "      <td>NaN</td>\n",
       "      <td>NaN</td>\n",
       "      <td>...</td>\n",
       "      <td>2019.0</td>\n",
       "      <td>NaN</td>\n",
       "      <td>NaN</td>\n",
       "      <td>NaN</td>\n",
       "      <td>NaN</td>\n",
       "      <td>NaN</td>\n",
       "      <td>NaN</td>\n",
       "      <td>NaN</td>\n",
       "      <td>NaN</td>\n",
       "      <td>NaN</td>\n",
       "    </tr>\n",
       "    <tr>\n",
       "      <th>3</th>\n",
       "      <td>USA</td>\n",
       "      <td>United States of America</td>\n",
       "      <td>1008 Matthews Solar</td>\n",
       "      <td>USA0063447</td>\n",
       "      <td>0.0</td>\n",
       "      <td>36.2167</td>\n",
       "      <td>-80.5525</td>\n",
       "      <td>NaN</td>\n",
       "      <td>NaN</td>\n",
       "      <td>NaN</td>\n",
       "      <td>...</td>\n",
       "      <td>2019.0</td>\n",
       "      <td>NaN</td>\n",
       "      <td>NaN</td>\n",
       "      <td>NaN</td>\n",
       "      <td>NaN</td>\n",
       "      <td>NaN</td>\n",
       "      <td>NaN</td>\n",
       "      <td>NaN</td>\n",
       "      <td>NaN</td>\n",
       "      <td>NaN</td>\n",
       "    </tr>\n",
       "    <tr>\n",
       "      <th>4</th>\n",
       "      <td>USA</td>\n",
       "      <td>United States of America</td>\n",
       "      <td>1009 Yadkin Solar</td>\n",
       "      <td>USA0063445</td>\n",
       "      <td>0.0</td>\n",
       "      <td>36.1475</td>\n",
       "      <td>-80.6561</td>\n",
       "      <td>NaN</td>\n",
       "      <td>NaN</td>\n",
       "      <td>NaN</td>\n",
       "      <td>...</td>\n",
       "      <td>2019.0</td>\n",
       "      <td>NaN</td>\n",
       "      <td>NaN</td>\n",
       "      <td>NaN</td>\n",
       "      <td>NaN</td>\n",
       "      <td>NaN</td>\n",
       "      <td>NaN</td>\n",
       "      <td>NaN</td>\n",
       "      <td>NaN</td>\n",
       "      <td>NaN</td>\n",
       "    </tr>\n",
       "  </tbody>\n",
       "</table>\n",
       "<p>5 rows × 27 columns</p>\n",
       "</div>"
      ],
      "text/plain": [
       "  country              country_long                            name  \\\n",
       "0     USA  United States of America  10 Briggs Solar NG  LLC (East)   \n",
       "1     USA  United States of America      100 Brook Hill Drive Solar   \n",
       "2     USA  United States of America      1001 Ebenezer Church Solar   \n",
       "3     USA  United States of America             1008 Matthews Solar   \n",
       "4     USA  United States of America               1009 Yadkin Solar   \n",
       "\n",
       "    gppd_idnr  capacity_mw  latitude  longitude primary_fuel other_fuel1  \\\n",
       "0  USA0062781          0.0   41.6327   -71.4963          NaN         NaN   \n",
       "1  USA0063292          2.0   41.0930   -73.9828        Solar         NaN   \n",
       "2  USA0063444          0.0   36.2838   -80.8434          NaN         NaN   \n",
       "3  USA0063447          0.0   36.2167   -80.5525          NaN         NaN   \n",
       "4  USA0063445          0.0   36.1475   -80.6561          NaN         NaN   \n",
       "\n",
       "  other_fuel2  ... year_of_capacity_data  generation_gwh_2013  \\\n",
       "0         NaN  ...                2019.0                  NaN   \n",
       "1         NaN  ...                2019.0                  NaN   \n",
       "2         NaN  ...                2019.0                  NaN   \n",
       "3         NaN  ...                2019.0                  NaN   \n",
       "4         NaN  ...                2019.0                  NaN   \n",
       "\n",
       "  generation_gwh_2014 generation_gwh_2015 generation_gwh_2016  \\\n",
       "0                 NaN                 NaN                 NaN   \n",
       "1                 NaN                 NaN                 NaN   \n",
       "2                 NaN                 NaN                 NaN   \n",
       "3                 NaN                 NaN                 NaN   \n",
       "4                 NaN                 NaN                 NaN   \n",
       "\n",
       "  generation_gwh_2017  generation_gwh_2018  generation_gwh_2019  \\\n",
       "0                 NaN                  NaN                  NaN   \n",
       "1                 NaN                  NaN                2.467   \n",
       "2                 NaN                  NaN                  NaN   \n",
       "3                 NaN                  NaN                  NaN   \n",
       "4                 NaN                  NaN                  NaN   \n",
       "\n",
       "                   generation_data_source  estimated_generation_gwh  \n",
       "0                                     NaN                       NaN  \n",
       "1  U.S. Energy Information Administration                       NaN  \n",
       "2                                     NaN                       NaN  \n",
       "3                                     NaN                       NaN  \n",
       "4                                     NaN                       NaN  \n",
       "\n",
       "[5 rows x 27 columns]"
      ]
     },
     "execution_count": 183,
     "metadata": {},
     "output_type": "execute_result"
    }
   ],
   "source": [
    "df_usa = pd.read_csv('database_USA.csv')\n",
    "df_usa.head()"
   ]
  },
  {
   "cell_type": "code",
   "execution_count": 184,
   "id": "57ae72fe",
   "metadata": {},
   "outputs": [
    {
     "data": {
      "text/plain": [
       "(11879, 27)"
      ]
     },
     "execution_count": 184,
     "metadata": {},
     "output_type": "execute_result"
    }
   ],
   "source": [
    "df_usa.shape"
   ]
  },
  {
   "cell_type": "markdown",
   "id": "96b97e92",
   "metadata": {},
   "source": [
    "# Combining Them All"
   ]
  },
  {
   "cell_type": "code",
   "execution_count": 185,
   "id": "88f929b0",
   "metadata": {},
   "outputs": [
    {
     "data": {
      "text/html": [
       "<div>\n",
       "<style scoped>\n",
       "    .dataframe tbody tr th:only-of-type {\n",
       "        vertical-align: middle;\n",
       "    }\n",
       "\n",
       "    .dataframe tbody tr th {\n",
       "        vertical-align: top;\n",
       "    }\n",
       "\n",
       "    .dataframe thead th {\n",
       "        text-align: right;\n",
       "    }\n",
       "</style>\n",
       "<table border=\"1\" class=\"dataframe\">\n",
       "  <thead>\n",
       "    <tr style=\"text-align: right;\">\n",
       "      <th></th>\n",
       "      <th>country</th>\n",
       "      <th>country_long</th>\n",
       "      <th>name</th>\n",
       "      <th>gppd_idnr</th>\n",
       "      <th>capacity_mw</th>\n",
       "      <th>latitude</th>\n",
       "      <th>longitude</th>\n",
       "      <th>primary_fuel</th>\n",
       "      <th>other_fuel1</th>\n",
       "      <th>other_fuel2</th>\n",
       "      <th>...</th>\n",
       "      <th>year_of_capacity_data</th>\n",
       "      <th>generation_gwh_2013</th>\n",
       "      <th>generation_gwh_2014</th>\n",
       "      <th>generation_gwh_2015</th>\n",
       "      <th>generation_gwh_2016</th>\n",
       "      <th>generation_gwh_2017</th>\n",
       "      <th>generation_gwh_2018</th>\n",
       "      <th>generation_gwh_2019</th>\n",
       "      <th>generation_data_source</th>\n",
       "      <th>estimated_generation_gwh</th>\n",
       "    </tr>\n",
       "  </thead>\n",
       "  <tbody>\n",
       "    <tr>\n",
       "      <th>0</th>\n",
       "      <td>AUS</td>\n",
       "      <td>Australia</td>\n",
       "      <td>Adelaide Airport</td>\n",
       "      <td>AUS0000433</td>\n",
       "      <td>0.11</td>\n",
       "      <td>-34.9387</td>\n",
       "      <td>138.5377</td>\n",
       "      <td>Solar</td>\n",
       "      <td>NaN</td>\n",
       "      <td>NaN</td>\n",
       "      <td>...</td>\n",
       "      <td>2019.0</td>\n",
       "      <td>NaN</td>\n",
       "      <td>NaN</td>\n",
       "      <td>NaN</td>\n",
       "      <td>NaN</td>\n",
       "      <td>NaN</td>\n",
       "      <td>NaN</td>\n",
       "      <td>NaN</td>\n",
       "      <td>NaN</td>\n",
       "      <td>NaN</td>\n",
       "    </tr>\n",
       "    <tr>\n",
       "      <th>1</th>\n",
       "      <td>AUS</td>\n",
       "      <td>Australia</td>\n",
       "      <td>Adelaide Showgrounds</td>\n",
       "      <td>AUS0000432</td>\n",
       "      <td>1.00</td>\n",
       "      <td>-34.9453</td>\n",
       "      <td>138.5882</td>\n",
       "      <td>Solar</td>\n",
       "      <td>NaN</td>\n",
       "      <td>NaN</td>\n",
       "      <td>...</td>\n",
       "      <td>2019.0</td>\n",
       "      <td>NaN</td>\n",
       "      <td>NaN</td>\n",
       "      <td>NaN</td>\n",
       "      <td>NaN</td>\n",
       "      <td>NaN</td>\n",
       "      <td>NaN</td>\n",
       "      <td>NaN</td>\n",
       "      <td>NaN</td>\n",
       "      <td>NaN</td>\n",
       "    </tr>\n",
       "    <tr>\n",
       "      <th>2</th>\n",
       "      <td>AUS</td>\n",
       "      <td>Australia</td>\n",
       "      <td>Albany Wind Farm</td>\n",
       "      <td>AUS0000065</td>\n",
       "      <td>21.60</td>\n",
       "      <td>-35.0641</td>\n",
       "      <td>117.7977</td>\n",
       "      <td>Wind</td>\n",
       "      <td>NaN</td>\n",
       "      <td>NaN</td>\n",
       "      <td>...</td>\n",
       "      <td>2019.0</td>\n",
       "      <td>89.595278</td>\n",
       "      <td>102.642778</td>\n",
       "      <td>96.555556</td>\n",
       "      <td>95.872778</td>\n",
       "      <td>85.900278</td>\n",
       "      <td>92.682222</td>\n",
       "      <td>NaN</td>\n",
       "      <td>Australia Clean Energy Regulator</td>\n",
       "      <td>NaN</td>\n",
       "    </tr>\n",
       "    <tr>\n",
       "      <th>3</th>\n",
       "      <td>AUS</td>\n",
       "      <td>Australia</td>\n",
       "      <td>Alice Springs Airport</td>\n",
       "      <td>AUS0000469</td>\n",
       "      <td>0.24</td>\n",
       "      <td>-23.7966</td>\n",
       "      <td>133.8971</td>\n",
       "      <td>Solar</td>\n",
       "      <td>NaN</td>\n",
       "      <td>NaN</td>\n",
       "      <td>...</td>\n",
       "      <td>2019.0</td>\n",
       "      <td>NaN</td>\n",
       "      <td>NaN</td>\n",
       "      <td>NaN</td>\n",
       "      <td>NaN</td>\n",
       "      <td>NaN</td>\n",
       "      <td>NaN</td>\n",
       "      <td>NaN</td>\n",
       "      <td>NaN</td>\n",
       "      <td>NaN</td>\n",
       "    </tr>\n",
       "    <tr>\n",
       "      <th>4</th>\n",
       "      <td>AUS</td>\n",
       "      <td>Australia</td>\n",
       "      <td>Amcor Gawler</td>\n",
       "      <td>AUS0000231</td>\n",
       "      <td>4.00</td>\n",
       "      <td>-34.5509</td>\n",
       "      <td>138.7659</td>\n",
       "      <td>Oil</td>\n",
       "      <td>NaN</td>\n",
       "      <td>NaN</td>\n",
       "      <td>...</td>\n",
       "      <td>2019.0</td>\n",
       "      <td>NaN</td>\n",
       "      <td>NaN</td>\n",
       "      <td>NaN</td>\n",
       "      <td>NaN</td>\n",
       "      <td>NaN</td>\n",
       "      <td>NaN</td>\n",
       "      <td>NaN</td>\n",
       "      <td>NaN</td>\n",
       "      <td>NaN</td>\n",
       "    </tr>\n",
       "  </tbody>\n",
       "</table>\n",
       "<p>5 rows × 27 columns</p>\n",
       "</div>"
      ],
      "text/plain": [
       "  country country_long                   name   gppd_idnr  capacity_mw  \\\n",
       "0     AUS    Australia       Adelaide Airport  AUS0000433         0.11   \n",
       "1     AUS    Australia   Adelaide Showgrounds  AUS0000432         1.00   \n",
       "2     AUS    Australia       Albany Wind Farm  AUS0000065        21.60   \n",
       "3     AUS    Australia  Alice Springs Airport  AUS0000469         0.24   \n",
       "4     AUS    Australia           Amcor Gawler  AUS0000231         4.00   \n",
       "\n",
       "   latitude  longitude primary_fuel other_fuel1 other_fuel2  ...  \\\n",
       "0  -34.9387   138.5377        Solar         NaN         NaN  ...   \n",
       "1  -34.9453   138.5882        Solar         NaN         NaN  ...   \n",
       "2  -35.0641   117.7977         Wind         NaN         NaN  ...   \n",
       "3  -23.7966   133.8971        Solar         NaN         NaN  ...   \n",
       "4  -34.5509   138.7659          Oil         NaN         NaN  ...   \n",
       "\n",
       "  year_of_capacity_data  generation_gwh_2013 generation_gwh_2014  \\\n",
       "0                2019.0                  NaN                 NaN   \n",
       "1                2019.0                  NaN                 NaN   \n",
       "2                2019.0            89.595278          102.642778   \n",
       "3                2019.0                  NaN                 NaN   \n",
       "4                2019.0                  NaN                 NaN   \n",
       "\n",
       "  generation_gwh_2015 generation_gwh_2016 generation_gwh_2017  \\\n",
       "0                 NaN                 NaN                 NaN   \n",
       "1                 NaN                 NaN                 NaN   \n",
       "2           96.555556           95.872778           85.900278   \n",
       "3                 NaN                 NaN                 NaN   \n",
       "4                 NaN                 NaN                 NaN   \n",
       "\n",
       "   generation_gwh_2018  generation_gwh_2019            generation_data_source  \\\n",
       "0                  NaN                  NaN                               NaN   \n",
       "1                  NaN                  NaN                               NaN   \n",
       "2            92.682222                  NaN  Australia Clean Energy Regulator   \n",
       "3                  NaN                  NaN                               NaN   \n",
       "4                  NaN                  NaN                               NaN   \n",
       "\n",
       "   estimated_generation_gwh  \n",
       "0                       NaN  \n",
       "1                       NaN  \n",
       "2                       NaN  \n",
       "3                       NaN  \n",
       "4                       NaN  \n",
       "\n",
       "[5 rows x 27 columns]"
      ]
     },
     "execution_count": 185,
     "metadata": {},
     "output_type": "execute_result"
    }
   ],
   "source": [
    "df_combined = pd.concat([df_aus, df_ind, df_usa], ignore_index=True)\n",
    "df_combined.head()"
   ]
  },
  {
   "cell_type": "code",
   "execution_count": 186,
   "id": "7461c3d4",
   "metadata": {},
   "outputs": [
    {
     "data": {
      "text/plain": [
       "(13298, 27)"
      ]
     },
     "execution_count": 186,
     "metadata": {},
     "output_type": "execute_result"
    }
   ],
   "source": [
    "df_combined.shape"
   ]
  },
  {
   "cell_type": "code",
   "execution_count": 187,
   "id": "2e77ffaf",
   "metadata": {},
   "outputs": [
    {
     "data": {
      "text/plain": [
       "country                         0\n",
       "country_long                    0\n",
       "name                            0\n",
       "gppd_idnr                       0\n",
       "capacity_mw                     6\n",
       "latitude                       78\n",
       "longitude                      78\n",
       "primary_fuel                 2004\n",
       "other_fuel1                 11670\n",
       "other_fuel2                 13028\n",
       "other_fuel3                 13206\n",
       "commissioning_year           2644\n",
       "owner                         593\n",
       "source                          0\n",
       "url                             0\n",
       "geolocation_source             23\n",
       "wepp_id                     13298\n",
       "year_of_capacity_data         438\n",
       "generation_gwh_2013          6128\n",
       "generation_gwh_2014          5764\n",
       "generation_gwh_2015          5305\n",
       "generation_gwh_2016          4597\n",
       "generation_gwh_2017          4006\n",
       "generation_gwh_2018          3440\n",
       "generation_gwh_2019          3520\n",
       "generation_data_source       2463\n",
       "estimated_generation_gwh    13298\n",
       "dtype: int64"
      ]
     },
     "execution_count": 187,
     "metadata": {},
     "output_type": "execute_result"
    }
   ],
   "source": [
    "df_combined.isnull().sum()"
   ]
  },
  {
   "cell_type": "code",
   "execution_count": 188,
   "id": "c7e80aa5",
   "metadata": {},
   "outputs": [
    {
     "data": {
      "text/html": [
       "<div>\n",
       "<style scoped>\n",
       "    .dataframe tbody tr th:only-of-type {\n",
       "        vertical-align: middle;\n",
       "    }\n",
       "\n",
       "    .dataframe tbody tr th {\n",
       "        vertical-align: top;\n",
       "    }\n",
       "\n",
       "    .dataframe thead th {\n",
       "        text-align: right;\n",
       "    }\n",
       "</style>\n",
       "<table border=\"1\" class=\"dataframe\">\n",
       "  <thead>\n",
       "    <tr style=\"text-align: right;\">\n",
       "      <th></th>\n",
       "      <th>country</th>\n",
       "      <th>country_long</th>\n",
       "      <th>name</th>\n",
       "      <th>gppd_idnr</th>\n",
       "      <th>capacity_mw</th>\n",
       "      <th>latitude</th>\n",
       "      <th>longitude</th>\n",
       "      <th>primary_fuel</th>\n",
       "      <th>other_fuel1</th>\n",
       "      <th>other_fuel2</th>\n",
       "      <th>...</th>\n",
       "      <th>year_of_capacity_data</th>\n",
       "      <th>generation_gwh_2013</th>\n",
       "      <th>generation_gwh_2014</th>\n",
       "      <th>generation_gwh_2015</th>\n",
       "      <th>generation_gwh_2016</th>\n",
       "      <th>generation_gwh_2017</th>\n",
       "      <th>generation_gwh_2018</th>\n",
       "      <th>generation_gwh_2019</th>\n",
       "      <th>generation_data_source</th>\n",
       "      <th>estimated_generation_gwh</th>\n",
       "    </tr>\n",
       "  </thead>\n",
       "  <tbody>\n",
       "    <tr>\n",
       "      <th>0</th>\n",
       "      <td>AUS</td>\n",
       "      <td>Australia</td>\n",
       "      <td>Adelaide Airport</td>\n",
       "      <td>AUS0000433</td>\n",
       "      <td>0.11</td>\n",
       "      <td>-34.9387</td>\n",
       "      <td>138.5377</td>\n",
       "      <td>Solar</td>\n",
       "      <td>NaN</td>\n",
       "      <td>NaN</td>\n",
       "      <td>...</td>\n",
       "      <td>2019.0</td>\n",
       "      <td>NaN</td>\n",
       "      <td>NaN</td>\n",
       "      <td>NaN</td>\n",
       "      <td>NaN</td>\n",
       "      <td>NaN</td>\n",
       "      <td>NaN</td>\n",
       "      <td>NaN</td>\n",
       "      <td>NaN</td>\n",
       "      <td>NaN</td>\n",
       "    </tr>\n",
       "    <tr>\n",
       "      <th>1</th>\n",
       "      <td>AUS</td>\n",
       "      <td>Australia</td>\n",
       "      <td>Adelaide Showgrounds</td>\n",
       "      <td>AUS0000432</td>\n",
       "      <td>1.00</td>\n",
       "      <td>-34.9453</td>\n",
       "      <td>138.5882</td>\n",
       "      <td>Solar</td>\n",
       "      <td>NaN</td>\n",
       "      <td>NaN</td>\n",
       "      <td>...</td>\n",
       "      <td>2019.0</td>\n",
       "      <td>NaN</td>\n",
       "      <td>NaN</td>\n",
       "      <td>NaN</td>\n",
       "      <td>NaN</td>\n",
       "      <td>NaN</td>\n",
       "      <td>NaN</td>\n",
       "      <td>NaN</td>\n",
       "      <td>NaN</td>\n",
       "      <td>NaN</td>\n",
       "    </tr>\n",
       "    <tr>\n",
       "      <th>2</th>\n",
       "      <td>AUS</td>\n",
       "      <td>Australia</td>\n",
       "      <td>Albany Wind Farm</td>\n",
       "      <td>AUS0000065</td>\n",
       "      <td>21.60</td>\n",
       "      <td>-35.0641</td>\n",
       "      <td>117.7977</td>\n",
       "      <td>Wind</td>\n",
       "      <td>NaN</td>\n",
       "      <td>NaN</td>\n",
       "      <td>...</td>\n",
       "      <td>2019.0</td>\n",
       "      <td>89.595278</td>\n",
       "      <td>102.642778</td>\n",
       "      <td>96.555556</td>\n",
       "      <td>95.872778</td>\n",
       "      <td>85.900278</td>\n",
       "      <td>92.682222</td>\n",
       "      <td>NaN</td>\n",
       "      <td>Australia Clean Energy Regulator</td>\n",
       "      <td>NaN</td>\n",
       "    </tr>\n",
       "    <tr>\n",
       "      <th>3</th>\n",
       "      <td>AUS</td>\n",
       "      <td>Australia</td>\n",
       "      <td>Alice Springs Airport</td>\n",
       "      <td>AUS0000469</td>\n",
       "      <td>0.24</td>\n",
       "      <td>-23.7966</td>\n",
       "      <td>133.8971</td>\n",
       "      <td>Solar</td>\n",
       "      <td>NaN</td>\n",
       "      <td>NaN</td>\n",
       "      <td>...</td>\n",
       "      <td>2019.0</td>\n",
       "      <td>NaN</td>\n",
       "      <td>NaN</td>\n",
       "      <td>NaN</td>\n",
       "      <td>NaN</td>\n",
       "      <td>NaN</td>\n",
       "      <td>NaN</td>\n",
       "      <td>NaN</td>\n",
       "      <td>NaN</td>\n",
       "      <td>NaN</td>\n",
       "    </tr>\n",
       "    <tr>\n",
       "      <th>4</th>\n",
       "      <td>AUS</td>\n",
       "      <td>Australia</td>\n",
       "      <td>Amcor Gawler</td>\n",
       "      <td>AUS0000231</td>\n",
       "      <td>4.00</td>\n",
       "      <td>-34.5509</td>\n",
       "      <td>138.7659</td>\n",
       "      <td>Oil</td>\n",
       "      <td>NaN</td>\n",
       "      <td>NaN</td>\n",
       "      <td>...</td>\n",
       "      <td>2019.0</td>\n",
       "      <td>NaN</td>\n",
       "      <td>NaN</td>\n",
       "      <td>NaN</td>\n",
       "      <td>NaN</td>\n",
       "      <td>NaN</td>\n",
       "      <td>NaN</td>\n",
       "      <td>NaN</td>\n",
       "      <td>NaN</td>\n",
       "      <td>NaN</td>\n",
       "    </tr>\n",
       "  </tbody>\n",
       "</table>\n",
       "<p>5 rows × 27 columns</p>\n",
       "</div>"
      ],
      "text/plain": [
       "  country country_long                   name   gppd_idnr  capacity_mw  \\\n",
       "0     AUS    Australia       Adelaide Airport  AUS0000433         0.11   \n",
       "1     AUS    Australia   Adelaide Showgrounds  AUS0000432         1.00   \n",
       "2     AUS    Australia       Albany Wind Farm  AUS0000065        21.60   \n",
       "3     AUS    Australia  Alice Springs Airport  AUS0000469         0.24   \n",
       "4     AUS    Australia           Amcor Gawler  AUS0000231         4.00   \n",
       "\n",
       "   latitude  longitude primary_fuel other_fuel1 other_fuel2  ...  \\\n",
       "0  -34.9387   138.5377        Solar         NaN         NaN  ...   \n",
       "1  -34.9453   138.5882        Solar         NaN         NaN  ...   \n",
       "2  -35.0641   117.7977         Wind         NaN         NaN  ...   \n",
       "3  -23.7966   133.8971        Solar         NaN         NaN  ...   \n",
       "4  -34.5509   138.7659          Oil         NaN         NaN  ...   \n",
       "\n",
       "  year_of_capacity_data  generation_gwh_2013 generation_gwh_2014  \\\n",
       "0                2019.0                  NaN                 NaN   \n",
       "1                2019.0                  NaN                 NaN   \n",
       "2                2019.0            89.595278          102.642778   \n",
       "3                2019.0                  NaN                 NaN   \n",
       "4                2019.0                  NaN                 NaN   \n",
       "\n",
       "  generation_gwh_2015 generation_gwh_2016 generation_gwh_2017  \\\n",
       "0                 NaN                 NaN                 NaN   \n",
       "1                 NaN                 NaN                 NaN   \n",
       "2           96.555556           95.872778           85.900278   \n",
       "3                 NaN                 NaN                 NaN   \n",
       "4                 NaN                 NaN                 NaN   \n",
       "\n",
       "   generation_gwh_2018  generation_gwh_2019            generation_data_source  \\\n",
       "0                  NaN                  NaN                               NaN   \n",
       "1                  NaN                  NaN                               NaN   \n",
       "2            92.682222                  NaN  Australia Clean Energy Regulator   \n",
       "3                  NaN                  NaN                               NaN   \n",
       "4                  NaN                  NaN                               NaN   \n",
       "\n",
       "   estimated_generation_gwh  \n",
       "0                       NaN  \n",
       "1                       NaN  \n",
       "2                       NaN  \n",
       "3                       NaN  \n",
       "4                       NaN  \n",
       "\n",
       "[5 rows x 27 columns]"
      ]
     },
     "execution_count": 188,
     "metadata": {},
     "output_type": "execute_result"
    }
   ],
   "source": [
    "df_combined.head()"
   ]
  },
  {
   "cell_type": "markdown",
   "id": "e8567fb0",
   "metadata": {},
   "source": [
    "# Dropping Rows "
   ]
  },
  {
   "cell_type": "code",
   "execution_count": 189,
   "id": "7b5f0a17",
   "metadata": {
    "scrolled": true
   },
   "outputs": [],
   "source": [
    "cols_to_drop = ['other_fuel1', 'other_fuel2', 'other_fuel3', 'wepp_id', 'estimated_generation_gwh', 'country_long', 'name', 'generation_data_source', 'gppd_idnr', 'owner', 'source', 'url', 'geolocation_source']\n",
    "df = df_combined.drop(columns=cols_to_drop)\n"
   ]
  },
  {
   "cell_type": "code",
   "execution_count": 190,
   "id": "4cb27a33",
   "metadata": {},
   "outputs": [
    {
     "data": {
      "text/html": [
       "<div>\n",
       "<style scoped>\n",
       "    .dataframe tbody tr th:only-of-type {\n",
       "        vertical-align: middle;\n",
       "    }\n",
       "\n",
       "    .dataframe tbody tr th {\n",
       "        vertical-align: top;\n",
       "    }\n",
       "\n",
       "    .dataframe thead th {\n",
       "        text-align: right;\n",
       "    }\n",
       "</style>\n",
       "<table border=\"1\" class=\"dataframe\">\n",
       "  <thead>\n",
       "    <tr style=\"text-align: right;\">\n",
       "      <th></th>\n",
       "      <th>country</th>\n",
       "      <th>capacity_mw</th>\n",
       "      <th>latitude</th>\n",
       "      <th>longitude</th>\n",
       "      <th>primary_fuel</th>\n",
       "      <th>commissioning_year</th>\n",
       "      <th>year_of_capacity_data</th>\n",
       "      <th>generation_gwh_2013</th>\n",
       "      <th>generation_gwh_2014</th>\n",
       "      <th>generation_gwh_2015</th>\n",
       "      <th>generation_gwh_2016</th>\n",
       "      <th>generation_gwh_2017</th>\n",
       "      <th>generation_gwh_2018</th>\n",
       "      <th>generation_gwh_2019</th>\n",
       "    </tr>\n",
       "  </thead>\n",
       "  <tbody>\n",
       "    <tr>\n",
       "      <th>0</th>\n",
       "      <td>AUS</td>\n",
       "      <td>0.11</td>\n",
       "      <td>-34.9387</td>\n",
       "      <td>138.5377</td>\n",
       "      <td>Solar</td>\n",
       "      <td>2011.0</td>\n",
       "      <td>2019.0</td>\n",
       "      <td>NaN</td>\n",
       "      <td>NaN</td>\n",
       "      <td>NaN</td>\n",
       "      <td>NaN</td>\n",
       "      <td>NaN</td>\n",
       "      <td>NaN</td>\n",
       "      <td>NaN</td>\n",
       "    </tr>\n",
       "    <tr>\n",
       "      <th>1</th>\n",
       "      <td>AUS</td>\n",
       "      <td>1.00</td>\n",
       "      <td>-34.9453</td>\n",
       "      <td>138.5882</td>\n",
       "      <td>Solar</td>\n",
       "      <td>NaN</td>\n",
       "      <td>2019.0</td>\n",
       "      <td>NaN</td>\n",
       "      <td>NaN</td>\n",
       "      <td>NaN</td>\n",
       "      <td>NaN</td>\n",
       "      <td>NaN</td>\n",
       "      <td>NaN</td>\n",
       "      <td>NaN</td>\n",
       "    </tr>\n",
       "    <tr>\n",
       "      <th>2</th>\n",
       "      <td>AUS</td>\n",
       "      <td>21.60</td>\n",
       "      <td>-35.0641</td>\n",
       "      <td>117.7977</td>\n",
       "      <td>Wind</td>\n",
       "      <td>NaN</td>\n",
       "      <td>2019.0</td>\n",
       "      <td>89.595278</td>\n",
       "      <td>102.642778</td>\n",
       "      <td>96.555556</td>\n",
       "      <td>95.872778</td>\n",
       "      <td>85.900278</td>\n",
       "      <td>92.682222</td>\n",
       "      <td>NaN</td>\n",
       "    </tr>\n",
       "    <tr>\n",
       "      <th>3</th>\n",
       "      <td>AUS</td>\n",
       "      <td>0.24</td>\n",
       "      <td>-23.7966</td>\n",
       "      <td>133.8971</td>\n",
       "      <td>Solar</td>\n",
       "      <td>2004.0</td>\n",
       "      <td>2019.0</td>\n",
       "      <td>NaN</td>\n",
       "      <td>NaN</td>\n",
       "      <td>NaN</td>\n",
       "      <td>NaN</td>\n",
       "      <td>NaN</td>\n",
       "      <td>NaN</td>\n",
       "      <td>NaN</td>\n",
       "    </tr>\n",
       "    <tr>\n",
       "      <th>4</th>\n",
       "      <td>AUS</td>\n",
       "      <td>4.00</td>\n",
       "      <td>-34.5509</td>\n",
       "      <td>138.7659</td>\n",
       "      <td>Oil</td>\n",
       "      <td>2015.0</td>\n",
       "      <td>2019.0</td>\n",
       "      <td>NaN</td>\n",
       "      <td>NaN</td>\n",
       "      <td>NaN</td>\n",
       "      <td>NaN</td>\n",
       "      <td>NaN</td>\n",
       "      <td>NaN</td>\n",
       "      <td>NaN</td>\n",
       "    </tr>\n",
       "  </tbody>\n",
       "</table>\n",
       "</div>"
      ],
      "text/plain": [
       "  country  capacity_mw  latitude  longitude primary_fuel  commissioning_year  \\\n",
       "0     AUS         0.11  -34.9387   138.5377        Solar              2011.0   \n",
       "1     AUS         1.00  -34.9453   138.5882        Solar                 NaN   \n",
       "2     AUS        21.60  -35.0641   117.7977         Wind                 NaN   \n",
       "3     AUS         0.24  -23.7966   133.8971        Solar              2004.0   \n",
       "4     AUS         4.00  -34.5509   138.7659          Oil              2015.0   \n",
       "\n",
       "   year_of_capacity_data  generation_gwh_2013  generation_gwh_2014  \\\n",
       "0                 2019.0                  NaN                  NaN   \n",
       "1                 2019.0                  NaN                  NaN   \n",
       "2                 2019.0            89.595278           102.642778   \n",
       "3                 2019.0                  NaN                  NaN   \n",
       "4                 2019.0                  NaN                  NaN   \n",
       "\n",
       "   generation_gwh_2015  generation_gwh_2016  generation_gwh_2017  \\\n",
       "0                  NaN                  NaN                  NaN   \n",
       "1                  NaN                  NaN                  NaN   \n",
       "2            96.555556            95.872778            85.900278   \n",
       "3                  NaN                  NaN                  NaN   \n",
       "4                  NaN                  NaN                  NaN   \n",
       "\n",
       "   generation_gwh_2018 generation_gwh_2019  \n",
       "0                  NaN                 NaN  \n",
       "1                  NaN                 NaN  \n",
       "2            92.682222                 NaN  \n",
       "3                  NaN                 NaN  \n",
       "4                  NaN                 NaN  "
      ]
     },
     "execution_count": 190,
     "metadata": {},
     "output_type": "execute_result"
    }
   ],
   "source": [
    "df.head()"
   ]
  },
  {
   "cell_type": "code",
   "execution_count": 191,
   "id": "113211f1",
   "metadata": {},
   "outputs": [
    {
     "data": {
      "text/plain": [
       "country                     0\n",
       "capacity_mw                 6\n",
       "latitude                   78\n",
       "longitude                  78\n",
       "primary_fuel             2004\n",
       "commissioning_year       2644\n",
       "year_of_capacity_data     438\n",
       "generation_gwh_2013      6128\n",
       "generation_gwh_2014      5764\n",
       "generation_gwh_2015      5305\n",
       "generation_gwh_2016      4597\n",
       "generation_gwh_2017      4006\n",
       "generation_gwh_2018      3440\n",
       "generation_gwh_2019      3520\n",
       "dtype: int64"
      ]
     },
     "execution_count": 191,
     "metadata": {},
     "output_type": "execute_result"
    }
   ],
   "source": [
    "df.isnull().sum()"
   ]
  },
  {
   "cell_type": "code",
   "execution_count": 192,
   "id": "6e9f8077",
   "metadata": {},
   "outputs": [
    {
     "data": {
      "text/plain": [
       "(13298, 14)"
      ]
     },
     "execution_count": 192,
     "metadata": {},
     "output_type": "execute_result"
    }
   ],
   "source": [
    "df.shape"
   ]
  },
  {
   "cell_type": "code",
   "execution_count": 193,
   "id": "be9d785d",
   "metadata": {},
   "outputs": [
    {
     "name": "stderr",
     "output_type": "stream",
     "text": [
      "/var/folders/ft/hc3tvhk92gg14rhxvsn4_tvm0000gn/T/ipykernel_1193/1339973673.py:1: FutureWarning: The default value of numeric_only in DataFrame.corr is deprecated. In a future version, it will default to False. Select only valid columns or specify the value of numeric_only to silence this warning.\n",
      "  correlation_matrix = df.corr()\n"
     ]
    },
    {
     "data": {
      "image/png": "[encoded data removed]",
      "text/plain": [
       "<Figure size 2000x1500 with 2 Axes>"
      ]
     },
     "metadata": {},
     "output_type": "display_data"
    }
   ],
   "source": [
    "correlation_matrix = df.corr()\n",
    "\n",
    "# Visualize the correlation matrix with a larger figure size\n",
    "plt.figure(figsize=(20, 15))  # Increase the figure size\n",
    "heatmap = sns.heatmap(correlation_matrix, annot=True, cmap='coolwarm', linewidths=0.5)\n",
    "plt.title('Correlation Matrix')\n",
    "\n",
    "# Adjust the tick parameters for better readability\n",
    "heatmap.set_xticklabels(heatmap.get_xticklabels(), rotation=45, horizontalalignment='right', fontsize=8)\n",
    "heatmap.set_yticklabels(heatmap.get_yticklabels(), fontsize=8)\n",
    "\n",
    "plt.show()"
   ]
  },
  {
   "cell_type": "markdown",
   "id": "ae16693b",
   "metadata": {},
   "source": [
    "# Why Correlation Heatmap"
   ]
  },
  {
   "cell_type": "markdown",
   "id": "9797f3ec",
   "metadata": {},
   "source": [
    "In this approach, we use correlation analysis to understand relationships between numerical features in the Global Power Plant Database. We calculate a correlation matrix to quantify the linear relationships between pairs of features. A heatmap visualization, created with seaborn, shows these correlations, with annotations indicating the correlation values. This helps identify strong correlations, revealing feature interdependencies and potential multicollinearity. Understanding these relationships aids in selecting relevant features and improving our predictive model for the target variable, primary_fuel. This process enhances model performance by reducing dimensionality and focusing on the most impactful features."
   ]
  },
  {
   "cell_type": "code",
   "execution_count": 194,
   "id": "84c94d97",
   "metadata": {},
   "outputs": [
    {
     "data": {
      "text/plain": [
       "country                     0\n",
       "capacity_mw                 6\n",
       "latitude                   78\n",
       "longitude                  78\n",
       "primary_fuel             2004\n",
       "commissioning_year       2644\n",
       "year_of_capacity_data     438\n",
       "generation_gwh_2013      6128\n",
       "generation_gwh_2014      5764\n",
       "generation_gwh_2015      5305\n",
       "generation_gwh_2016      4597\n",
       "generation_gwh_2017      4006\n",
       "generation_gwh_2018      3440\n",
       "generation_gwh_2019      3520\n",
       "dtype: int64"
      ]
     },
     "execution_count": 194,
     "metadata": {},
     "output_type": "execute_result"
    }
   ],
   "source": [
    "df.isna().sum()"
   ]
  },
  {
   "cell_type": "code",
   "execution_count": 195,
   "id": "1dd26784",
   "metadata": {},
   "outputs": [
    {
     "data": {
      "text/plain": [
       "array([nan, 'Central Electricity Authority', 2.467, ..., 1.211, 1.589,\n",
       "       72.06506], dtype=object)"
      ]
     },
     "execution_count": 195,
     "metadata": {},
     "output_type": "execute_result"
    }
   ],
   "source": [
    "df['generation_gwh_2019'].unique()"
   ]
  },
  {
   "cell_type": "code",
   "execution_count": 196,
   "id": "043ed2af",
   "metadata": {},
   "outputs": [
    {
     "data": {
      "text/plain": [
       "array([nan, 'Central Electricity Authority', 2.467, ..., 1.211, 1.589,\n",
       "       72.06506], dtype=object)"
      ]
     },
     "execution_count": 196,
     "metadata": {},
     "output_type": "execute_result"
    }
   ],
   "source": [
    "df['generation_gwh_2019'].unique()"
   ]
  },
  {
   "cell_type": "code",
   "execution_count": 197,
   "id": "6560e379",
   "metadata": {},
   "outputs": [
    {
     "name": "stdout",
     "output_type": "stream",
     "text": [
      "    country  capacity_mw  latitude  longitude primary_fuel  \\\n",
      "814     IND         29.6   26.5255    72.7629         Wind   \n",
      "\n",
      "     commissioning_year  year_of_capacity_data  generation_gwh_2013  \\\n",
      "814              2004.0                    NaN            126.54477   \n",
      "\n",
      "     generation_gwh_2014  generation_gwh_2015  generation_gwh_2016  \\\n",
      "814             183.2989             131.0216             159.0806   \n",
      "\n",
      "     generation_gwh_2017  generation_gwh_2018            generation_gwh_2019  \n",
      "814             220.5517                  NaN  Central Electricity Authority  \n"
     ]
    }
   ],
   "source": [
    "filtered_rows = df[df['generation_gwh_2019'] == 'Central Electricity Authority']\n",
    "\n",
    "print(filtered_rows)"
   ]
  },
  {
   "cell_type": "code",
   "execution_count": 198,
   "id": "3b60a9d2",
   "metadata": {},
   "outputs": [
    {
     "name": "stdout",
     "output_type": "stream",
     "text": [
      "[nan 2.467 1.332 ... 1.211 1.589 72.06506]\n"
     ]
    }
   ],
   "source": [
    "df = df[df['generation_gwh_2019'] != 'Central Electricity Authority']\n",
    "\n",
    "print(df['generation_gwh_2019'].unique())"
   ]
  },
  {
   "cell_type": "code",
   "execution_count": 199,
   "id": "2fbbfc1e",
   "metadata": {},
   "outputs": [],
   "source": [
    "df['generation_gwh_2019'] = df['generation_gwh_2019'].astype(float, errors='ignore')"
   ]
  },
  {
   "cell_type": "markdown",
   "id": "c19e0df3",
   "metadata": {},
   "source": [
    "To handle the missing values in this dataset, we can use different strategies such as mean, median, or mode imputation based on the nature of the data in each column. Here's how you can fill the missing values for each of these columns:\n",
    "\n",
    "capacity_mw: Impute with the mean, as it represents the capacity in megawatts which is a continuous variable.\n",
    "latitude and longitude: Impute with the mean, as these are continuous geographical coordinates.\n",
    "primary_fuel: Impute with the mode, as it is a categorical variable representing the type of fuel.\n",
    "commissioning_year: Impute with the median, as it is a year which is a continuous variable but might have outliers.\n",
    "year_of_capacity_data: Impute with the median, as it represents a year.\n",
    "Generation columns: Impute with the mean, as they represent continuous values of electricity generation in gigawatt-hours."
   ]
  },
  {
   "cell_type": "code",
   "execution_count": 200,
   "id": "ac7f2883",
   "metadata": {},
   "outputs": [],
   "source": [
    "df['capacity_mw'].fillna(df['capacity_mw'].mean(), inplace=True)\n",
    "df['latitude'].fillna(df['latitude'].mean(), inplace=True)\n",
    "df['longitude'].fillna(df['longitude'].mean(), inplace=True)\n",
    "df['commissioning_year'].fillna(df['commissioning_year'].median(), inplace=True)\n",
    "df['year_of_capacity_data'].fillna(df['year_of_capacity_data'].median(), inplace=True)\n",
    "df['generation_gwh_2013'].fillna(df['generation_gwh_2013'].mean(), inplace=True)\n",
    "df['generation_gwh_2014'].fillna(df['generation_gwh_2014'].mean(), inplace=True)\n",
    "df['generation_gwh_2015'].fillna(df['generation_gwh_2015'].mean(), inplace=True)\n",
    "df['generation_gwh_2016'].fillna(df['generation_gwh_2016'].mean(), inplace=True)\n",
    "df['generation_gwh_2017'].fillna(df['generation_gwh_2017'].mean(), inplace=True)\n",
    "df['generation_gwh_2018'].fillna(df['generation_gwh_2018'].mean(), inplace=True)\n",
    "df['generation_gwh_2019'].fillna(df['generation_gwh_2019'].mean(), inplace=True)\n",
    "\n",
    "# Fill missing values for categorical column using mode\n",
    "df['primary_fuel'].fillna(df['primary_fuel'].mode()[0], inplace=True)"
   ]
  },
  {
   "cell_type": "code",
   "execution_count": 201,
   "id": "677b736e",
   "metadata": {},
   "outputs": [
    {
     "name": "stdout",
     "output_type": "stream",
     "text": [
      "<class 'pandas.core.frame.DataFrame'>\n",
      "Int64Index: 13297 entries, 0 to 13297\n",
      "Data columns (total 14 columns):\n",
      " #   Column                 Non-Null Count  Dtype  \n",
      "---  ------                 --------------  -----  \n",
      " 0   country                13297 non-null  object \n",
      " 1   capacity_mw            13297 non-null  float64\n",
      " 2   latitude               13297 non-null  float64\n",
      " 3   longitude              13297 non-null  float64\n",
      " 4   primary_fuel           13297 non-null  object \n",
      " 5   commissioning_year     13297 non-null  float64\n",
      " 6   year_of_capacity_data  13297 non-null  float64\n",
      " 7   generation_gwh_2013    13297 non-null  float64\n",
      " 8   generation_gwh_2014    13297 non-null  float64\n",
      " 9   generation_gwh_2015    13297 non-null  float64\n",
      " 10  generation_gwh_2016    13297 non-null  float64\n",
      " 11  generation_gwh_2017    13297 non-null  float64\n",
      " 12  generation_gwh_2018    13297 non-null  float64\n",
      " 13  generation_gwh_2019    13297 non-null  float64\n",
      "dtypes: float64(12), object(2)\n",
      "memory usage: 1.5+ MB\n"
     ]
    }
   ],
   "source": [
    "df.info()"
   ]
  },
  {
   "cell_type": "code",
   "execution_count": 202,
   "id": "41cae5a5",
   "metadata": {},
   "outputs": [
    {
     "data": {
      "text/plain": [
       "array(['Solar', 'Wind', 'Oil', 'Coal', 'Gas', 'Hydro', 'Waste', 'Biomass',\n",
       "       'Nuclear', 'Storage', 'Cogeneration', 'Geothermal', 'Petcoke',\n",
       "       'Other'], dtype=object)"
      ]
     },
     "execution_count": 202,
     "metadata": {},
     "output_type": "execute_result"
    }
   ],
   "source": [
    "df['primary_fuel'].unique()"
   ]
  },
  {
   "cell_type": "code",
   "execution_count": 203,
   "id": "5129d153",
   "metadata": {},
   "outputs": [],
   "source": [
    "from sklearn.preprocessing import LabelEncoder"
   ]
  },
  {
   "cell_type": "code",
   "execution_count": 204,
   "id": "df4fbb2c",
   "metadata": {},
   "outputs": [
    {
     "name": "stdout",
     "output_type": "stream",
     "text": [
      "  primary_fuel  primary_fuel_encoded\n",
      "0        Solar                    10\n",
      "1        Solar                    10\n",
      "2         Wind                    13\n",
      "3        Solar                    10\n",
      "4          Oil                     7\n"
     ]
    }
   ],
   "source": [
    "label_encoder = LabelEncoder()\n",
    "df['primary_fuel_encoded'] = label_encoder.fit_transform(df['primary_fuel'])\n",
    "print(df[['primary_fuel', 'primary_fuel_encoded']].head())"
   ]
  },
  {
   "cell_type": "code",
   "execution_count": 205,
   "id": "d68edc39",
   "metadata": {},
   "outputs": [
    {
     "data": {
      "text/plain": [
       "array([10, 13,  7,  1,  3,  5, 12,  0,  6, 11,  2,  4,  9,  8])"
      ]
     },
     "execution_count": 205,
     "metadata": {},
     "output_type": "execute_result"
    }
   ],
   "source": [
    "df['primary_fuel_encoded'].unique()"
   ]
  },
  {
   "cell_type": "code",
   "execution_count": 206,
   "id": "95286cd9",
   "metadata": {},
   "outputs": [
    {
     "name": "stdout",
     "output_type": "stream",
     "text": [
      "{'Biomass': 0, 'Coal': 1, 'Cogeneration': 2, 'Gas': 3, 'Geothermal': 4, 'Hydro': 5, 'Nuclear': 6, 'Oil': 7, 'Other': 8, 'Petcoke': 9, 'Solar': 10, 'Storage': 11, 'Waste': 12, 'Wind': 13}\n"
     ]
    }
   ],
   "source": [
    "label_mapping = dict(zip(label_encoder.classes_, label_encoder.transform(label_encoder.classes_)))\n",
    "print(label_mapping)"
   ]
  },
  {
   "cell_type": "code",
   "execution_count": 207,
   "id": "5c6392e6",
   "metadata": {},
   "outputs": [],
   "source": [
    "df['country_encoded'] = label_encoder.fit_transform(df['country'])"
   ]
  },
  {
   "cell_type": "code",
   "execution_count": 208,
   "id": "80af03e1",
   "metadata": {},
   "outputs": [
    {
     "name": "stdout",
     "output_type": "stream",
     "text": [
      "{'AUS': 0, 'IND': 1, 'USA': 2}\n"
     ]
    }
   ],
   "source": [
    "label_mapping = dict(zip(label_encoder.classes_, label_encoder.transform(label_encoder.classes_)))\n",
    "print(label_mapping)"
   ]
  },
  {
   "cell_type": "markdown",
   "id": "f0805a56",
   "metadata": {},
   "source": [
    "The Random Forest classifier is a popular choice for classification tasks because of its robust performance and ability to handle complex datasets. It operates as an ensemble learning method, meaning it builds multiple decision trees during training and merges their results to improve the predictive accuracy and control overfitting. Each decision tree in the forest is built from a random subset of the training data, and the final prediction is made by aggregating the predictions from all the trees, typically using a majority vote for classification. This process reduces the risk of overfitting, which is common with individual decision trees, and enhances the model's generalization capability.\n",
    "\n",
    "One of the key advantages of the Random Forest classifier is its versatility and ease of use. It can handle both numerical and categorical data, and it requires relatively little parameter tuning compared to other complex algorithms. Additionally, Random Forests provide an internal measure of feature importance, which helps in understanding the contribution of each feature to the model’s predictions. This interpretability is beneficial for feature selection and gaining insights into the underlying data patterns. Furthermore, Random Forests are robust to outliers and noise in the dataset, making them suitable for a wide range of real-world applications.\n",
    "\n",
    "In practical terms, Random Forests are computationally efficient and can be parallelized, allowing for faster training and prediction times on large datasets. They are less prone to the variance associated with single decision trees because of the ensemble approach, which averages out the predictions from multiple trees. This stability and accuracy make Random Forests an excellent choice for classification tasks, especially when dealing with datasets that have many features and complex interactions among them.\n",
    "\n"
   ]
  },
  {
   "cell_type": "code",
   "execution_count": 209,
   "id": "704a0b45",
   "metadata": {},
   "outputs": [],
   "source": [
    "from sklearn.model_selection import train_test_split\n",
    "from sklearn.ensemble import RandomForestClassifier\n",
    "from sklearn.metrics import classification_report, accuracy_score"
   ]
  },
  {
   "cell_type": "code",
   "execution_count": 210,
   "id": "87c85eb2",
   "metadata": {},
   "outputs": [],
   "source": [
    "df = df.drop('primary_fuel',axis=1)"
   ]
  },
  {
   "cell_type": "code",
   "execution_count": 211,
   "id": "c8808655",
   "metadata": {},
   "outputs": [],
   "source": [
    "df = df.drop('country',axis=1)"
   ]
  },
  {
   "cell_type": "code",
   "execution_count": 212,
   "id": "6ac1f578",
   "metadata": {},
   "outputs": [
    {
     "name": "stdout",
     "output_type": "stream",
     "text": [
      "<class 'pandas.core.frame.DataFrame'>\n",
      "Int64Index: 13297 entries, 0 to 13297\n",
      "Data columns (total 14 columns):\n",
      " #   Column                 Non-Null Count  Dtype  \n",
      "---  ------                 --------------  -----  \n",
      " 0   capacity_mw            13297 non-null  float64\n",
      " 1   latitude               13297 non-null  float64\n",
      " 2   longitude              13297 non-null  float64\n",
      " 3   commissioning_year     13297 non-null  float64\n",
      " 4   year_of_capacity_data  13297 non-null  float64\n",
      " 5   generation_gwh_2013    13297 non-null  float64\n",
      " 6   generation_gwh_2014    13297 non-null  float64\n",
      " 7   generation_gwh_2015    13297 non-null  float64\n",
      " 8   generation_gwh_2016    13297 non-null  float64\n",
      " 9   generation_gwh_2017    13297 non-null  float64\n",
      " 10  generation_gwh_2018    13297 non-null  float64\n",
      " 11  generation_gwh_2019    13297 non-null  float64\n",
      " 12  primary_fuel_encoded   13297 non-null  int64  \n",
      " 13  country_encoded        13297 non-null  int64  \n",
      "dtypes: float64(12), int64(2)\n",
      "memory usage: 1.5 MB\n"
     ]
    }
   ],
   "source": [
    "df.info()"
   ]
  },
  {
   "cell_type": "code",
   "execution_count": 213,
   "id": "1c390942",
   "metadata": {},
   "outputs": [],
   "source": [
    "df = df.dropna(subset=['primary_fuel_encoded'])"
   ]
  },
  {
   "cell_type": "code",
   "execution_count": 214,
   "id": "c9a4b0ff",
   "metadata": {},
   "outputs": [],
   "source": [
    "X = df.drop(columns=['primary_fuel_encoded'])\n",
    "y = df['primary_fuel_encoded']"
   ]
  },
  {
   "cell_type": "code",
   "execution_count": 215,
   "id": "9e965c2b",
   "metadata": {},
   "outputs": [],
   "source": [
    "X_train, X_test, y_train, y_test = train_test_split(X, y, test_size=0.2, random_state=42)"
   ]
  },
  {
   "cell_type": "code",
   "execution_count": 216,
   "id": "12e5458f",
   "metadata": {},
   "outputs": [
    {
     "data": {
      "text/html": [
       "<style>#sk-container-id-1 {color: black;}#sk-container-id-1 pre{padding: 0;}#sk-container-id-1 div.sk-toggleable {background-color: white;}#sk-container-id-1 label.sk-toggleable__label {cursor: pointer;display: block;width: 100%;margin-bottom: 0;padding: 0.3em;box-sizing: border-box;text-align: center;}#sk-container-id-1 label.sk-toggleable__label-arrow:before {content: \"▸\";float: left;margin-right: 0.25em;color: #696969;}#sk-container-id-1 label.sk-toggleable__label-arrow:hover:before {color: black;}#sk-container-id-1 div.sk-estimator:hover label.sk-toggleable__label-arrow:before {color: black;}#sk-container-id-1 div.sk-toggleable__content {max-height: 0;max-width: 0;overflow: hidden;text-align: left;background-color: #f0f8ff;}#sk-container-id-1 div.sk-toggleable__content pre {margin: 0.2em;color: black;border-radius: 0.25em;background-color: #f0f8ff;}#sk-container-id-1 input.sk-toggleable__control:checked~div.sk-toggleable__content {max-height: 200px;max-width: 100%;overflow: auto;}#sk-container-id-1 input.sk-toggleable__control:checked~label.sk-toggleable__label-arrow:before {content: \"▾\";}#sk-container-id-1 div.sk-estimator input.sk-toggleable__control:checked~label.sk-toggleable__label {background-color: #d4ebff;}#sk-container-id-1 div.sk-label input.sk-toggleable__control:checked~label.sk-toggleable__label {background-color: #d4ebff;}#sk-container-id-1 input.sk-hidden--visually {border: 0;clip: rect(1px 1px 1px 1px);clip: rect(1px, 1px, 1px, 1px);height: 1px;margin: -1px;overflow: hidden;padding: 0;position: absolute;width: 1px;}#sk-container-id-1 div.sk-estimator {font-family: monospace;background-color: #f0f8ff;border: 1px dotted black;border-radius: 0.25em;box-sizing: border-box;margin-bottom: 0.5em;}#sk-container-id-1 div.sk-estimator:hover {background-color: #d4ebff;}#sk-container-id-1 div.sk-parallel-item::after {content: \"\";width: 100%;border-bottom: 1px solid gray;flex-grow: 1;}#sk-container-id-1 div.sk-label:hover label.sk-toggleable__label {background-color: #d4ebff;}#sk-container-id-1 div.sk-serial::before {content: \"\";position: absolute;border-left: 1px solid gray;box-sizing: border-box;top: 0;bottom: 0;left: 50%;z-index: 0;}#sk-container-id-1 div.sk-serial {display: flex;flex-direction: column;align-items: center;background-color: white;padding-right: 0.2em;padding-left: 0.2em;position: relative;}#sk-container-id-1 div.sk-item {position: relative;z-index: 1;}#sk-container-id-1 div.sk-parallel {display: flex;align-items: stretch;justify-content: center;background-color: white;position: relative;}#sk-container-id-1 div.sk-item::before, #sk-container-id-1 div.sk-parallel-item::before {content: \"\";position: absolute;border-left: 1px solid gray;box-sizing: border-box;top: 0;bottom: 0;left: 50%;z-index: -1;}#sk-container-id-1 div.sk-parallel-item {display: flex;flex-direction: column;z-index: 1;position: relative;background-color: white;}#sk-container-id-1 div.sk-parallel-item:first-child::after {align-self: flex-end;width: 50%;}#sk-container-id-1 div.sk-parallel-item:last-child::after {align-self: flex-start;width: 50%;}#sk-container-id-1 div.sk-parallel-item:only-child::after {width: 0;}#sk-container-id-1 div.sk-dashed-wrapped {border: 1px dashed gray;margin: 0 0.4em 0.5em 0.4em;box-sizing: border-box;padding-bottom: 0.4em;background-color: white;}#sk-container-id-1 div.sk-label label {font-family: monospace;font-weight: bold;display: inline-block;line-height: 1.2em;}#sk-container-id-1 div.sk-label-container {text-align: center;}#sk-container-id-1 div.sk-container {/* jupyter's `normalize.less` sets `[hidden] { display: none; }` but bootstrap.min.css set `[hidden] { display: none !important; }` so we also need the `!important` here to be able to override the default hidden behavior on the sphinx rendered scikit-learn.org. See: https://github.com/scikit-learn/scikit-learn/issues/21755 */display: inline-block !important;position: relative;}#sk-container-id-1 div.sk-text-repr-fallback {display: none;}</style><div id=\"sk-container-id-1\" class=\"sk-top-container\"><div class=\"sk-text-repr-fallback\"><pre>RandomForestClassifier(random_state=42)</pre><b>In a Jupyter environment, please rerun this cell to show the HTML representation or trust the notebook. <br />On GitHub, the HTML representation is unable to render, please try loading this page with nbviewer.org.</b></div><div class=\"sk-container\" hidden><div class=\"sk-item\"><div class=\"sk-estimator sk-toggleable\"><input class=\"sk-toggleable__control sk-hidden--visually\" id=\"sk-estimator-id-1\" type=\"checkbox\" checked><label for=\"sk-estimator-id-1\" class=\"sk-toggleable__label sk-toggleable__label-arrow\">RandomForestClassifier</label><div class=\"sk-toggleable__content\"><pre>RandomForestClassifier(random_state=42)</pre></div></div></div></div></div>"
      ],
      "text/plain": [
       "RandomForestClassifier(random_state=42)"
      ]
     },
     "execution_count": 216,
     "metadata": {},
     "output_type": "execute_result"
    }
   ],
   "source": [
    "rf_model = RandomForestClassifier(n_estimators=100, random_state=42)\n",
    "rf_model.fit(X_train, y_train)"
   ]
  },
  {
   "cell_type": "code",
   "execution_count": 217,
   "id": "88bb25d9",
   "metadata": {},
   "outputs": [],
   "source": [
    "y_pred = rf_model.predict(X_test)"
   ]
  },
  {
   "cell_type": "code",
   "execution_count": 218,
   "id": "f0f044a3",
   "metadata": {},
   "outputs": [
    {
     "name": "stdout",
     "output_type": "stream",
     "text": [
      "Accuracy: 0.8364661654135338\n",
      "Classification Report:\n",
      "               precision    recall  f1-score   support\n",
      "\n",
      "           0       0.71      0.22      0.33        55\n",
      "           1       0.80      0.62      0.70       135\n",
      "           2       0.00      0.00      0.00        11\n",
      "           3       0.69      0.74      0.72       407\n",
      "           4       0.50      0.18      0.27        11\n",
      "           5       0.84      0.90      0.87       339\n",
      "           6       0.88      0.64      0.74        11\n",
      "           7       0.77      0.77      0.77       205\n",
      "           8       0.00      0.00      0.00         7\n",
      "           9       0.00      0.00      0.00         2\n",
      "          10       0.93      0.98      0.95      1072\n",
      "          11       1.00      0.82      0.90        33\n",
      "          12       0.61      0.61      0.61       110\n",
      "          13       0.84      0.79      0.81       262\n",
      "\n",
      "    accuracy                           0.84      2660\n",
      "   macro avg       0.61      0.52      0.55      2660\n",
      "weighted avg       0.83      0.84      0.83      2660\n",
      "\n"
     ]
    },
    {
     "name": "stderr",
     "output_type": "stream",
     "text": [
      "/opt/homebrew/anaconda3/lib/python3.11/site-packages/sklearn/metrics/_classification.py:1469: UndefinedMetricWarning: Precision and F-score are ill-defined and being set to 0.0 in labels with no predicted samples. Use `zero_division` parameter to control this behavior.\n",
      "  _warn_prf(average, modifier, msg_start, len(result))\n",
      "/opt/homebrew/anaconda3/lib/python3.11/site-packages/sklearn/metrics/_classification.py:1469: UndefinedMetricWarning: Precision and F-score are ill-defined and being set to 0.0 in labels with no predicted samples. Use `zero_division` parameter to control this behavior.\n",
      "  _warn_prf(average, modifier, msg_start, len(result))\n",
      "/opt/homebrew/anaconda3/lib/python3.11/site-packages/sklearn/metrics/_classification.py:1469: UndefinedMetricWarning: Precision and F-score are ill-defined and being set to 0.0 in labels with no predicted samples. Use `zero_division` parameter to control this behavior.\n",
      "  _warn_prf(average, modifier, msg_start, len(result))\n"
     ]
    }
   ],
   "source": [
    "print(\"Accuracy:\", accuracy_score(y_test, y_pred))\n",
    "print(\"Classification Report:\\n\", classification_report(y_test, y_pred))"
   ]
  },
  {
   "cell_type": "code",
   "execution_count": null,
   "id": "90b2d1bb",
   "metadata": {},
   "outputs": [],
   "source": [
    "The Random Forest classifier achieved an overall accuracy of approximately 83.6% on the test dataset. The classification report highlights the performance of the model across different classes, with precision, recall, and F1-score provided for each class. Notably, the model performs exceptionally well for some classes, such as class 10, with a precision and recall close to 0.93 and 0.98, respectively, indicating a strong ability to correctly identify and classify instances of this class. However, for some classes like class 2, class 8, and class 9, the model fails to make accurate predictions, resulting in precision, recall, and F1-scores of 0. This discrepancy suggests that the model might be biased towards classes with more instances and struggles with underrepresented classes. The weighted average F1-score of 0.83 further confirms the model's overall balanced performance, though improvements can be made for better handling of minority classes."
   ]
  }
 ],
 "metadata": {
  "kernelspec": {
   "display_name": "Python 3 (ipykernel)",
   "language": "python",
   "name": "python3"
  },
  "language_info": {
   "codemirror_mode": {
    "name": "ipython",
    "version": 3
   },
   "file_extension": ".py",
   "mimetype": "text/x-python",
   "name": "python",
   "nbconvert_exporter": "python",
   "pygments_lexer": "ipython3",
   "version": "3.11.4"
  }
 },
 "nbformat": 4,
 "nbformat_minor": 5
}
